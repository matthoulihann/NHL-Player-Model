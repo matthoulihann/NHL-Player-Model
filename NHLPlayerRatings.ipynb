{
  "nbformat": 4,
  "nbformat_minor": 0,
  "metadata": {
    "colab": {
      "provenance": []
    },
    "kernelspec": {
      "name": "python3",
      "display_name": "Python 3"
    },
    "language_info": {
      "name": "python"
    }
  },
  "cells": [
    {
      "cell_type": "code",
      "execution_count": 12,
      "metadata": {
        "id": "h5CLzuayQk7p",
        "colab": {
          "base_uri": "https://localhost:8080/"
        },
        "outputId": "a3bd4e7d-401b-43c4-ef54-280120ae56fe"
      },
      "outputs": [
        {
          "output_type": "stream",
          "name": "stdout",
          "text": [
            "Enter the player's name: Nathan Mackinnon\n",
            "Nathan Mackinnon's rating for season 2023 is 1.38.\n"
          ]
        }
      ],
      "source": [
        "import pandas as pd\n",
        "\n",
        "# Load dataset\n",
        "file_path = '/content/skaters (1).csv'\n",
        "data = pd.read_csv(file_path)\n",
        "\n",
        "# Define constants\n",
        "P = 50  # Games Played threshold for regularization\n",
        "\n",
        "# Calculate GS/GP for all players in the dataset\n",
        "data['GS_per_GP'] = data['gameScore'] / data['games_played']\n",
        "\n",
        "# Function to calculate the player's rating\n",
        "def calculate_rating(player_name: str, season: int = 2023) -> str:\n",
        "    # Filter by player name and season\n",
        "    player_data = data[(data['name'].str.lower() == player_name.lower()) & (data['season'] == season)]\n",
        "\n",
        "    if player_data.empty:\n",
        "        return f\"Player '{player_name}' not found for season {season}.\"\n",
        "\n",
        "    # Get the player's GS/GP and games played\n",
        "    gp = player_data['games_played'].values[0]\n",
        "    gs_per_gp = player_data['GS_per_GP'].values[0]\n",
        "\n",
        "    # Calculate mean GS/GP for all players under the threshold\n",
        "    mean_gs_per_gp = data[data['games_played'] < P]['GS_per_GP'].mean()\n",
        "\n",
        "    # Apply regularization if player games are under threshold\n",
        "    if gp < P:\n",
        "        regularized_gs_per_gp = (gp * gs_per_gp + (P - gp) * mean_gs_per_gp) / P\n",
        "    else:\n",
        "        regularized_gs_per_gp = gs_per_gp\n",
        "\n",
        "    # Final rating (here using only GS/GP, but can expand to include weighted metrics)\n",
        "    rating = regularized_gs_per_gp\n",
        "    return f\"{player_name}'s rating for season {season} is {rating:.2f}.\"\n",
        "\n",
        "# Prompt user for input\n",
        "player_name = input(\"Enter the player's name: \")\n",
        "print(calculate_rating(player_name))\n"
      ]
    },
    {
      "cell_type": "code",
      "source": [],
      "metadata": {
        "id": "XRJLlx2eSAA1"
      },
      "execution_count": null,
      "outputs": []
    }
  ]
}